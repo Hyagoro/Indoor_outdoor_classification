{
 "cells": [
  {
   "cell_type": "markdown",
   "metadata": {},
   "source": [
    "# Indoor outdoor classification"
   ]
  },
  {
   "cell_type": "code",
   "execution_count": 3,
   "metadata": {
    "collapsed": true
   },
   "outputs": [],
   "source": [
    "import matplotlib.image as mpimg\n",
    "import numpy as np\n",
    "import cv2\n",
    "import glob\n",
    "import time\n",
    "from sklearn.svm import LinearSVC, SVC\n",
    "from sklearn.ensemble import RandomForestClassifier\n",
    "from sklearn.preprocessing import StandardScaler\n",
    "from sklearn.model_selection import train_test_split\n",
    "from skimage.feature import hog\n",
    "from scipy.ndimage.measurements import label\n",
    "from sklearn.utils import shuffle\n",
    "from sklearn.model_selection import GridSearchCV\n",
    "from sklearn.decomposition import PCA"
   ]
  },
  {
   "cell_type": "code",
   "execution_count": 56,
   "metadata": {
    "collapsed": true
   },
   "outputs": [],
   "source": [
    "def get_hog_features(img, orient, pix_per_cell, cell_per_block, \n",
    "                        vis=False, feature_vec=True):\n",
    "    if vis == True:\n",
    "        features, hog_image = hog(img, orientations=orient, \n",
    "                                  pixels_per_cell=(pix_per_cell, pix_per_cell),\n",
    "                                  cells_per_block=(cell_per_block, cell_per_block), \n",
    "                                  transform_sqrt=False, visualise=vis,\n",
    "                                  feature_vector=feature_vec, block_norm='L2-Hys')\n",
    "        return features, hog_image\n",
    "    else:      \n",
    "        features = hog(img, orientations=orient, \n",
    "                       pixels_per_cell=(pix_per_cell, pix_per_cell),\n",
    "                       cells_per_block=(cell_per_block, cell_per_block), \n",
    "                       transform_sqrt=False, visualise=vis,\n",
    "                       feature_vector=feature_vec, block_norm='L2-Hys')\n",
    "        return features\n",
    "\n",
    "def bin_spatial(img, size=(32, 32)):\n",
    "    color1 = cv2.resize(img[:,:,0], size).ravel()\n",
    "    color2 = cv2.resize(img[:,:,1], size).ravel()\n",
    "    color3 = cv2.resize(img[:,:,2], size).ravel()\n",
    "    return np.hstack((color1, color2, color3))\n",
    "                        \n",
    "def color_hist(img, nbins=32):    #bins_range=(0, 256)\n",
    "    channel1_hist = np.histogram(img[:,:,0], bins=nbins)\n",
    "    channel2_hist = np.histogram(img[:,:,1], bins=nbins)\n",
    "    channel3_hist = np.histogram(img[:,:,2], bins=nbins)\n",
    "    return np.concatenate((channel1_hist[0], channel2_hist[0], channel3_hist[0]))\n",
    "\n",
    "def extract_features(imgs, color_space='RGB', spatial_size=(32, 32),\n",
    "                        hist_bins=32, orient=9, \n",
    "                        pix_per_cell=8, cell_per_block=2,\n",
    "                        spatial_feat=True, hist_feat=True, hog_feat=True):\n",
    "    features = []\n",
    "    for file in imgs:\n",
    "        image = mpimg.imread(file)\n",
    "        image = cv2.resize(image, (500, 500))\n",
    "        file_features = single_img_features(image, color_space=color_space, spatial_size=spatial_size,\n",
    "                        hist_bins=hist_bins, orient=orient, \n",
    "                        pix_per_cell=pix_per_cell, cell_per_block=cell_per_block,\n",
    "                        spatial_feat=spatial_feat, hist_feat=hist_feat, hog_feat=hog_feat)\n",
    "        \n",
    "        features.append(file_features)\n",
    "    return features"
   ]
  },
  {
   "cell_type": "code",
   "execution_count": 57,
   "metadata": {
    "collapsed": true
   },
   "outputs": [],
   "source": [
    "def single_img_features(img, color_space='RGB', spatial_size=(32, 32),\n",
    "                        hist_bins=32, orient=9, \n",
    "                        pix_per_cell=8, cell_per_block=2,\n",
    "                        spatial_feat=True, hist_feat=True, hog_feat=True):   \n",
    "    \n",
    "    img_features = []\n",
    "    if color_space != 'RGB':\n",
    "        if color_space == 'HSV':\n",
    "            feature_image = cv2.cvtColor(img, cv2.COLOR_RGB2HSV)\n",
    "        elif color_space == 'LUV':\n",
    "            feature_image = cv2.cvtColor(img, cv2.COLOR_RGB2LUV)\n",
    "        elif color_space == 'HLS':\n",
    "            feature_image = cv2.cvtColor(img, cv2.COLOR_RGB2HLS)\n",
    "        elif color_space == 'YUV':\n",
    "            feature_image = cv2.cvtColor(img, cv2.COLOR_RGB2YUV)\n",
    "        elif color_space == 'YCrCb':\n",
    "            feature_image = cv2.cvtColor(img, cv2.COLOR_RGB2YCrCb)\n",
    "    else: feature_image = np.copy(img)      \n",
    "    if spatial_feat is True:\n",
    "        spatial_features = bin_spatial(feature_image, size=spatial_size)\n",
    "        img_features.append(spatial_features)\n",
    "        \n",
    "    if hist_feat is True:\n",
    "        hist_features = color_hist(feature_image, nbins=hist_bins)\n",
    "        img_features.append(hist_features)\n",
    "    if hog_feat is True:\n",
    "        ch1 = feature_image[:,:,0]\n",
    "        ch2 = feature_image[:,:,1]\n",
    "        ch3 = feature_image[:,:,2]\n",
    "        hog1 = get_hog_features(ch1, orient, pix_per_cell, cell_per_block, feature_vec=False)\n",
    "        hog2 = get_hog_features(ch2, orient, pix_per_cell, cell_per_block, feature_vec=False)\n",
    "        hog3 = get_hog_features(ch3, orient, pix_per_cell, cell_per_block, feature_vec=False)\n",
    "        hog_features = np.hstack((hog1, hog2, hog3))\n",
    "        img_features.append(hog_features.ravel())    \n",
    "\n",
    "    return np.concatenate(img_features)"
   ]
  },
  {
   "cell_type": "code",
   "execution_count": 54,
   "metadata": {},
   "outputs": [
    {
     "name": "stdout",
     "output_type": "stream",
     "text": [
      "36\n",
      "37\n"
     ]
    }
   ],
   "source": [
    "facade_path = \"./data/train/facade/\"\n",
    "flat_path = \"./data/train/flat/\"\n",
    "\n",
    "facades = glob.glob('./data/train/facade/*.jpg')\n",
    "flats = glob.glob('./data/train/flat/*.jpg')\n",
    "\n",
    "print(len(facades))\n",
    "print(len(flats))"
   ]
  },
  {
   "cell_type": "code",
   "execution_count": 44,
   "metadata": {},
   "outputs": [],
   "source": [
    "def flip_image(img, path):\n",
    "    image = mpimg.imread(img)\n",
    "    image = cv2.flip(image,1)\n",
    "    image = cv2.cvtColor(image, cv2.COLOR_RGB2BGR)\n",
    "    name = img.split(\"/\")[-1][:-4]\n",
    "    cv2.imwrite(\"{}{}-flip.jpg\".format(path, name), image)\n",
    "\n",
    "for img in flats:\n",
    "    flip_image(img, flat_path)\n",
    "    \n",
    "for img in facades:\n",
    "    flip_image(img, facade_path)"
   ]
  },
  {
   "cell_type": "code",
   "execution_count": 58,
   "metadata": {
    "collapsed": true
   },
   "outputs": [],
   "source": [
    "def stack_array_scale(ones, zeros, colorspace, spatial_size, histbin, orient, pix_per_cell = 8):\n",
    "    \n",
    "    one_features = extract_features(ones, color_space=colorspace, spatial_size=(spatial, spatial),\n",
    "                        hist_bins=histbin, orient=orient, \n",
    "                        pix_per_cell=pix_per_cell, cell_per_block=2,\n",
    "                        spatial_feat=True, hist_feat=True, hog_feat=True)\n",
    "    \n",
    "    zeros_features = extract_features(zeros, color_space=colorspace, spatial_size=(spatial, spatial),\n",
    "                        hist_bins=histbin, orient=orient, \n",
    "                        pix_per_cell=pix_per_cell, cell_per_block=2,\n",
    "                        spatial_feat=True, hist_feat=True, hog_feat=True)\n",
    "    \n",
    "    # Create an array stack of feature vectors\n",
    "    X = np.vstack((one_features, zeros_features)).astype(np.float64)\n",
    "    # Fit a per-column scaler\n",
    "    X_scaler = StandardScaler().fit(X)\n",
    "\n",
    "    # Apply the scaler to X\n",
    "    scaled_X = X_scaler.transform(X)\n",
    "    \n",
    "    return scaled_X, X_scaler"
   ]
  },
  {
   "cell_type": "code",
   "execution_count": 85,
   "metadata": {},
   "outputs": [],
   "source": [
    "colorspace = 'YUV'\n",
    "orient = 9\n",
    "spatial = 32\n",
    "histbin = 32\n",
    "spatial_size = (spatial, spatial)\n",
    "\n",
    "def generate_dataset(ones, zeros, colorspace, spatial_size, histbin, orient):\n",
    "\n",
    "    # Apply the scaler to X\n",
    "    scaled_X, X_scaler = stack_array_scale(ones, zeros, colorspace, spatial_size, histbin, orient)\n",
    "\n",
    "    # Define the labels vector\n",
    "    y = np.hstack((np.ones(len(ones)), np.zeros(len(zeros))))\n",
    "\n",
    "    scaled_X, y = shuffle(scaled_X, y)\n",
    "    \n",
    "    # Split up data into randomized training and test sets\n",
    "    rand_state = np.random.randint(0, 100)\n",
    "    X_train, X_test, y_train, y_test = train_test_split(scaled_X, y, test_size=0.2, random_state=rand_state)\n",
    "    \n",
    "    return X_train, X_test, y_train, y_test, X_scaler\n",
    "\n",
    "X_train, X_test, y_train, y_test, X_scaler = generate_dataset(facades, flats, colorspace,\n",
    "                                                              spatial_size, histbin, orient)"
   ]
  },
  {
   "cell_type": "code",
   "execution_count": 86,
   "metadata": {},
   "outputs": [
    {
     "name": "stdout",
     "output_type": "stream",
     "text": [
      "58\n",
      "15\n"
     ]
    }
   ],
   "source": [
    "print(len(X_train))\n",
    "print(len(X_test))"
   ]
  },
  {
   "cell_type": "code",
   "execution_count": 87,
   "metadata": {},
   "outputs": [
    {
     "name": "stdout",
     "output_type": "stream",
     "text": [
      "Using spatial binning of: 32 and 32 histogram bins\n",
      "Feature vector length: 405036\n",
      "0.05 Seconds to train RandomForest...\n",
      "Test Accuracy of SVC = 0.9333333333333333\n",
      "RandomForest predicts: [ 1.  0.  0.  0.  0.  0.  1.  1.  1.  0.  1.  0.  0.  1.  1.]\n",
      "y_test labels:         [ 1.  1.  0.  0.  0.  0.  1.  1.  1.  0.  1.  0.  0.  1.  1.]\n",
      "0.00716 Seconds to predict 100 labels with SVC\n"
     ]
    }
   ],
   "source": [
    "print('Using spatial binning of:', spatial,\n",
    "      'and', histbin, 'histogram bins')\n",
    "print('Feature vector length:', len(X_train[0]))\n",
    "\n",
    "rdmf = RandomForestClassifier(max_depth=18, random_state=0)\n",
    "t = time.time()\n",
    "#pca = PCA(n_components=300000)\n",
    "#X_train = pca.fit_transform(X_train)\n",
    "rdmf.fit(X_train, y_train)\n",
    "t2 = time.time()\n",
    "print(round(t2 - t, 2), 'Seconds to train RandomForest...')\n",
    "print('Test Accuracy of SVC = {}'.format(rdmf.score(X_test, y_test)))\n",
    "t = time.time()\n",
    "\n",
    "print('RandomForest predicts: {}'.format(rdmf.predict(X_test)))\n",
    "print('y_test labels:         {}'.format(y_test))\n",
    "t2 = time.time()\n",
    "print(round(t2 - t, 5), 'Seconds to predict', n_predict, 'labels with SVC')"
   ]
  },
  {
   "cell_type": "markdown",
   "metadata": {},
   "source": [
    "# Results\n",
    "### With random forest\n",
    "##### Accuracy\n",
    "- YCrCb : 0.7727\n",
    "- YUV : 0.9333\n",
    "- LUV : 0.7727\n",
    "- HLS : 0.8636\n",
    "- HSV : 0.7727\n",
    "- RGB : 0.7272"
   ]
  },
  {
   "cell_type": "code",
   "execution_count": null,
   "metadata": {
    "collapsed": true
   },
   "outputs": [],
   "source": []
  }
 ],
 "metadata": {
  "kernelspec": {
   "display_name": "Python 3",
   "language": "python",
   "name": "python3"
  },
  "language_info": {
   "codemirror_mode": {
    "name": "ipython",
    "version": 3
   },
   "file_extension": ".py",
   "mimetype": "text/x-python",
   "name": "python",
   "nbconvert_exporter": "python",
   "pygments_lexer": "ipython3",
   "version": "3.6.1"
  }
 },
 "nbformat": 4,
 "nbformat_minor": 2
}
